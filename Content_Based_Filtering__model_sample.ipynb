{
  "nbformat": 4,
  "nbformat_minor": 0,
  "metadata": {
    "colab": {
      "provenance": [],
      "authorship_tag": "ABX9TyMrJdaC0hsiBWM7uBIIvObo",
      "include_colab_link": true
    },
    "kernelspec": {
      "name": "python3",
      "display_name": "Python 3"
    },
    "language_info": {
      "name": "python"
    }
  },
  "cells": [
    {
      "cell_type": "markdown",
      "metadata": {
        "id": "view-in-github",
        "colab_type": "text"
      },
      "source": [
        "<a href=\"https://colab.research.google.com/github/IKosovych/ucu-recommender-system-2023/blob/master/Content_Based_Filtering__model_sample.ipynb\" target=\"_parent\"><img src=\"https://colab.research.google.com/assets/colab-badge.svg\" alt=\"Open In Colab\"/></a>"
      ]
    },
    {
      "cell_type": "code",
      "execution_count": 2,
      "metadata": {
        "colab": {
          "base_uri": "https://localhost:8080/"
        },
        "id": "lB4WujxSGu8P",
        "outputId": "652f6a1f-4260-4d8b-cdec-02d7d329631e"
      },
      "outputs": [
        {
          "output_type": "stream",
          "name": "stdout",
          "text": [
            "Mounted at /content/gdrive\n"
          ]
        }
      ],
      "source": [
        "from sklearn.feature_extraction.text import TfidfVectorizer\n",
        "from sklearn.metrics.pairwise import linear_kernel\n",
        "import pandas as pd\n",
        "from google.colab import drive\n",
        "drive.mount('/content/gdrive')"
      ]
    },
    {
      "cell_type": "code",
      "source": [
        "# Load the datasets\n",
        "movies = pd.read_csv('/content/gdrive/My Drive/Colab Notebooks/ml-latest-small/movies.csv')\n",
        "ratings = pd.read_csv('/content/gdrive/My Drive/Colab Notebooks/ml-latest-small/ratings.csv')\n",
        "tags = pd.read_csv('/content/gdrive/My Drive/Colab Notebooks/ml-latest-small/tags.csv')\n",
        "links = pd.read_csv('/content/gdrive/My Drive/Colab Notebooks/ml-latest-small/links.csv')\n"
      ],
      "metadata": {
        "id": "uMP_GHCFb9Jr"
      },
      "execution_count": 3,
      "outputs": []
    },
    {
      "cell_type": "markdown",
      "source": [
        "After inspection of four datases I didn't found severe outliers that can cause problems in our tasks."
      ],
      "metadata": {
        "id": "DVJ-n1FW21ec"
      }
    },
    {
      "cell_type": "markdown",
      "source": [
        "###Content-Based Filtering model implementation"
      ],
      "metadata": {
        "id": "jeey7F9E2upo"
      }
    },
    {
      "cell_type": "code",
      "source": [
        "# Use TF-IDF to convert the genres into vectors\n",
        "tfidf = TfidfVectorizer(stop_words='english')\n",
        "movies['genres'] = movies['genres'].fillna('')\n",
        "tfidf_matrix = tfidf.fit_transform(movies['genres'])\n",
        "\n",
        "# Compute the cosine similarity matrix\n",
        "cosine_sim = linear_kernel(tfidf_matrix, tfidf_matrix)"
      ],
      "metadata": {
        "id": "k4dwiTuzcNW2"
      },
      "execution_count": 4,
      "outputs": []
    },
    {
      "cell_type": "code",
      "source": [
        "# Create a reverse mapping of movie titles and DataFrame indices\n",
        "indices = pd.Series(movies.index, index=movies['title']).drop_duplicates()\n",
        "\n",
        "def get_recommendations(title, cosine_sim=cosine_sim):\n",
        "    # Get the index of the movie that matches the title\n",
        "    idx = indices[title]\n",
        "\n",
        "    # Get the pairwise similarity scores of all movies with that movie\n",
        "    sim_scores = list(enumerate(cosine_sim[idx]))\n",
        "\n",
        "    # Sort the movies based on the similarity scores\n",
        "    sim_scores = sorted(sim_scores, key=lambda x: x[1], reverse=True)\n",
        "\n",
        "    # Get the scores of the 10 most similar movies\n",
        "    sim_scores = sim_scores[1:11]\n",
        "\n",
        "    # Get the movie indices\n",
        "    movie_indices = [i[0] for i in sim_scores]\n",
        "\n",
        "    # Return the top 10 most similar movies\n",
        "    return movies['title'].iloc[movie_indices]\n"
      ],
      "metadata": {
        "id": "7vRsp-h5e3s2"
      },
      "execution_count": 5,
      "outputs": []
    },
    {
      "cell_type": "code",
      "source": [
        "print(get_recommendations('Toy Story (1995)'))\n"
      ],
      "metadata": {
        "colab": {
          "base_uri": "https://localhost:8080/"
        },
        "id": "wV4cLU05e3j5",
        "outputId": "4dddb9cc-b494-4011-d2f5-dfd3cf9a7ee1"
      },
      "execution_count": 6,
      "outputs": [
        {
          "output_type": "stream",
          "name": "stdout",
          "text": [
            "1706                                          Antz (1998)\n",
            "2355                                   Toy Story 2 (1999)\n",
            "2809       Adventures of Rocky and Bullwinkle, The (2000)\n",
            "3000                     Emperor's New Groove, The (2000)\n",
            "3568                                Monsters, Inc. (2001)\n",
            "6194                                     Wild, The (2006)\n",
            "6486                               Shrek the Third (2007)\n",
            "6948                       Tale of Despereaux, The (2008)\n",
            "7760    Asterix and the Vikings (Astérix et les Viking...\n",
            "8219                                         Turbo (2013)\n",
            "Name: title, dtype: object\n"
          ]
        }
      ]
    }
  ]
}